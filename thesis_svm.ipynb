{
  "nbformat": 4,
  "nbformat_minor": 0,
  "metadata": {
    "colab": {
      "provenance": []
    },
    "kernelspec": {
      "name": "python3",
      "display_name": "Python 3"
    },
    "language_info": {
      "name": "python"
    },
    "accelerator": "GPU",
    "gpuClass": "standard"
  },
  "cells": [
    {
      "cell_type": "code",
      "execution_count": null,
      "metadata": {
        "id": "DoZSBTFKQ7ZF"
      },
      "outputs": [],
      "source": [
        "from google.colab import drive\n",
        "drive.mount('/content/drive')"
      ]
    },
    {
      "cell_type": "code",
      "source": [
        "from zipfile import ZipFile\n",
        "file_name = \"/content/drive/MyDrive/dataset/image-dataset.zip\"\n",
        "with ZipFile(file_name, 'r') as zip:\n",
        "  zip.extractall()\n",
        "  print('done')"
      ],
      "metadata": {
        "id": "dKIm2YNpZofs"
      },
      "execution_count": null,
      "outputs": []
    },
    {
      "cell_type": "code",
      "source": [
        "import os\n",
        "import numpy as np\n",
        "import cv2\n",
        "import matplotlib.pyplot as plt\n",
        "from google.colab.patches import cv2_imshow\n",
        "import random\n",
        "from sklearn.model_selection import train_test_split\n",
        "from sklearn.svm import SVC\n",
        "import pickle\n"
      ],
      "metadata": {
        "id": "R5_c9adWaH3y"
      },
      "execution_count": null,
      "outputs": []
    },
    {
      "cell_type": "code",
      "source": [
        "\n",
        "catagories = os.listdir('/content/Image dataset')\n",
        "print(catagories)\n",
        "path, dirs, files = next(os.walk(\"/content/Image dataset\"))\n",
        "print(path)"
      ],
      "metadata": {
        "id": "MINEIHvMZqbE"
      },
      "execution_count": null,
      "outputs": []
    },
    {
      "cell_type": "code",
      "source": [
        "data=[]\n",
        "for i in catagories:\n",
        "    path1=os.path.join(path,i)\n",
        "    label = catagories.index(i)\n",
        "    for img in os.listdir(path1):\n",
        "        imgpath = os.path.join(path1,img)\n",
        "        print(imgpath)\n",
        "        img = cv2.imread(imgpath,0)\n",
        "        try:\n",
        "          img = cv2.resize(img,(50,50))\n",
        "          image = np.array(img).flatten()\n",
        "          data.append([image,label])\n",
        "        except Exception as e:\n",
        "           pass\n",
        "\n",
        "print(len(data))       "
      ],
      "metadata": {
        "id": "UpekqzvZb-Oz"
      },
      "execution_count": null,
      "outputs": []
    },
    {
      "cell_type": "code",
      "source": [
        "random.shuffle(data)\n",
        "features = []\n",
        "labels = []\n",
        "for feature,label in data:\n",
        "    features.append(feature)\n",
        "    labels.append(label)\n",
        "    \n",
        "\n"
      ],
      "metadata": {
        "id": "p09q7ad3jxKg"
      },
      "execution_count": null,
      "outputs": []
    },
    {
      "cell_type": "code",
      "source": [
        "X_train, X_test, y_train, y_test = train_test_split(features, labels, test_size = 0.3, random_state = 101)"
      ],
      "metadata": {
        "id": "BdhsD49qljlH"
      },
      "execution_count": null,
      "outputs": []
    },
    {
      "cell_type": "code",
      "source": [
        "model = SVC(C=1, kernel='poly',gamma='auto')\n",
        "model.fit(X_train, y_train)\n",
        "prediction = model.predict(X_test)\n",
        "acccuracy = model.score(X_test, y_test)\n",
        "print(\"prediction :\",prediction)\n",
        "print(\"Accuracy :\",acccuracy)"
      ],
      "metadata": {
        "colab": {
          "base_uri": "https://localhost:8080/"
        },
        "id": "RwzZrXQMnaxv",
        "outputId": "2b32baa4-0b22-404c-e3ae-5050dff105ef"
      },
      "execution_count": null,
      "outputs": [
        {
          "output_type": "stream",
          "name": "stdout",
          "text": [
            "prediction : [0 1 1 2 0 1 1 0 2 1 1 1 2 0 0 0 0 2 0 0 0 2 1 2 2 2 2 0 2 1 0 0 0 0 1 0 0\n",
            " 0 2 0 2 2 2 2 2 1 0 1 0 0 2]\n",
            "Accuracy : 0.9803921568627451\n"
          ]
        }
      ]
    },
    {
      "cell_type": "code",
      "source": [
        "pick = open('/content/model.sav','wb')\n",
        "pickle.dump(model,pick)\n",
        "pick.close()\n"
      ],
      "metadata": {
        "id": "qxpACeT0Uv71"
      },
      "execution_count": null,
      "outputs": []
    },
    {
      "cell_type": "code",
      "source": [
        "print(X_test)"
      ],
      "metadata": {
        "id": "zNYStMvz368Q"
      },
      "execution_count": null,
      "outputs": []
    },
    {
      "cell_type": "markdown",
      "source": [],
      "metadata": {
        "id": "HOwSGsG936oR"
      }
    },
    {
      "cell_type": "code",
      "source": [
        "image = X_test[0].reshape(50,50)\n",
        "plt.imshow(image,cmap='gray')\n",
        "plt.show()\n",
        "print(\"prediction :\",catagories[prediction[0]])"
      ],
      "metadata": {
        "colab": {
          "base_uri": "https://localhost:8080/",
          "height": 285
        },
        "id": "xQjuxYGmOa7F",
        "outputId": "48112a41-7cc1-4943-b968-96b044be29dd"
      },
      "execution_count": null,
      "outputs": [
        {
          "output_type": "display_data",
          "data": {
            "text/plain": [
              "<Figure size 432x288 with 1 Axes>"
            ],
            "image/png": "[encoded data removed]"
          },
          "metadata": {
            "needs_background": "light"
          }
        },
        {
          "output_type": "stream",
          "name": "stdout",
          "text": [
            "prediction : A\n"
          ]
        }
      ]
    },
    {
      "cell_type": "code",
      "source": [
        "image = X_test[3].reshape(50,50)\n",
        "plt.imshow(image,cmap='gray')\n",
        "plt.show()\n",
        "print(\"prediction :\",catagories[prediction[3]])"
      ],
      "metadata": {
        "colab": {
          "base_uri": "https://localhost:8080/",
          "height": 285
        },
        "id": "gFLBNbtPWP5m",
        "outputId": "f024f919-a5de-46e3-ba77-47d7b837f08c"
      },
      "execution_count": null,
      "outputs": [
        {
          "output_type": "display_data",
          "data": {
            "text/plain": [
              "<Figure size 432x288 with 1 Axes>"
            ],
            "image/png": "[encoded data removed]"
          },
          "metadata": {
            "needs_background": "light"
          }
        },
        {
          "output_type": "stream",
          "name": "stdout",
          "text": [
            "prediction : B\n"
          ]
        }
      ]
    },
    {
      "cell_type": "code",
      "source": [
        "image = X_test[2].reshape(50,50)\n",
        "plt.imshow(image,cmap='gray')\n",
        "plt.show()\n",
        "print(\"prediction :\",catagories[prediction[2]])"
      ],
      "metadata": {
        "id": "XgPcgp9WWwXf",
        "outputId": "0fe89704-d121-4f93-ec87-59ce118cbf9d",
        "colab": {
          "base_uri": "https://localhost:8080/",
          "height": 285
        }
      },
      "execution_count": null,
      "outputs": [
        {
          "output_type": "display_data",
          "data": {
            "text/plain": [
              "<Figure size 432x288 with 1 Axes>"
            ],
            "image/png": "[encoded data removed]"
          },
          "metadata": {
            "needs_background": "light"
          }
        },
        {
          "output_type": "stream",
          "name": "stdout",
          "text": [
            "prediction : C\n"
          ]
        }
      ]
    },
    {
      "cell_type": "code",
      "source": [
        "image = X_test[6].reshape(50,50)\n",
        "plt.imshow(image,cmap='gray')\n",
        "plt.show()\n",
        "print(\"prediction :\",catagories[prediction[6]])"
      ],
      "metadata": {
        "id": "EvGtrsy0WV56"
      },
      "execution_count": null,
      "outputs": []
    },
    {
      "cell_type": "code",
      "source": [
        "pick = open('model.sav','rb')\n",
        "model = pickle.load(pick)\n",
        "pick.close()"
      ],
      "metadata": {
        "id": "_IV_svJeWHGk"
      },
      "execution_count": null,
      "outputs": []
    },
    {
      "cell_type": "code",
      "source": [
        "imgpath = \"/content/drive/MyDrive/dataset/B.jpg\"\n",
        "img = cv2.imread(imgpath,0)\n",
        "\n",
        "img = cv2.resize(img,(50,50))\n",
        "plt.imshow(img,cmap='gray')\n",
        "image = np.array(img).flatten()\n",
        "prediction = model.predict([image])\n",
        "print(\"prediction :\",catagories[prediction[0]])\n",
        "\n"
      ],
      "metadata": {
        "colab": {
          "base_uri": "https://localhost:8080/",
          "height": 285
        },
        "id": "9PdX_d1KYYNS",
        "outputId": "a2431c06-487c-4688-8a7c-3c084f635326"
      },
      "execution_count": null,
      "outputs": [
        {
          "output_type": "stream",
          "name": "stdout",
          "text": [
            "prediction : B\n"
          ]
        },
        {
          "output_type": "display_data",
          "data": {
            "text/plain": [
              "<Figure size 432x288 with 1 Axes>"
            ],
            "image/png": "[encoded data removed]"
          },
          "metadata": {
            "needs_background": "light"
          }
        }
      ]
    },
    {
      "cell_type": "code",
      "source": [
        "imgpath = \"/content/drive/MyDrive/dataset/C.jpg\"\n",
        "img = cv2.imread(imgpath,0)\n",
        "\n",
        "img = cv2.resize(img,(50,50))\n",
        "plt.imshow(img,cmap='gray')\n",
        "image = np.array(img).flatten()\n",
        "prediction = model.predict([image])\n",
        "print(\"prediction :\",catagories[prediction[0]])"
      ],
      "metadata": {
        "id": "wgso3bQGbiM4",
        "outputId": "bc84c180-3e0d-4ca3-86c0-e1aedd94d05c",
        "colab": {
          "base_uri": "https://localhost:8080/",
          "height": 285
        }
      },
      "execution_count": null,
      "outputs": [
        {
          "output_type": "stream",
          "name": "stdout",
          "text": [
            "prediction : C\n"
          ]
        },
        {
          "output_type": "display_data",
          "data": {
            "text/plain": [
              "<Figure size 432x288 with 1 Axes>"
            ],
            "image/png": "[encoded data removed]"
          },
          "metadata": {
            "needs_background": "light"
          }
        }
      ]
    },
    {
      "cell_type": "code",
      "source": [
        "imgpath = \"/content/drive/MyDrive/dataset/A.jpg\"\n",
        "img = cv2.imread(imgpath,0)\n",
        "\n",
        "img = cv2.resize(img,(50,50))\n",
        "plt.imshow(img,cmap='gray')\n",
        "image = np.array(img).flatten()\n",
        "prediction = model.predict([image])\n",
        "print(\"prediction :\",catagories[prediction[0]])"
      ],
      "metadata": {
        "id": "BpUIqUdqbkY7",
        "outputId": "38676800-2b9e-4b1a-8f33-d633cedd157c",
        "colab": {
          "base_uri": "https://localhost:8080/",
          "height": 285
        }
      },
      "execution_count": null,
      "outputs": [
        {
          "output_type": "stream",
          "name": "stdout",
          "text": [
            "prediction : C\n"
          ]
        },
        {
          "output_type": "display_data",
          "data": {
            "text/plain": [
              "<Figure size 432x288 with 1 Axes>"
            ],
            "image/png": "[encoded data removed]"
          },
          "metadata": {
            "needs_background": "light"
          }
        }
      ]
    }
  ]
}